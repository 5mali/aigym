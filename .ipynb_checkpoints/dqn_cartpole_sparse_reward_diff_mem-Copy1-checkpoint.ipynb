{
 "cells": [
  {
   "cell_type": "code",
   "execution_count": 1,
   "metadata": {},
   "outputs": [],
   "source": [
    "# \"\"\"\n",
    "# View more, visit my tutorial page: https://morvanzhou.github.io/tutorials/\n",
    "# My Youtube Channel: https://www.youtube.com/user/MorvanZhou\n",
    "# More about Reinforcement learning: https://morvanzhou.github.io/tutorials/machine-learning/reinforcement-learning/\n",
    "# Dependencies:\n",
    "# torch: 0.4\n",
    "# gym: 0.8.1\n",
    "# numpy\n",
    "# \"\"\""
   ]
  },
  {
   "cell_type": "code",
   "execution_count": 2,
   "metadata": {},
   "outputs": [],
   "source": [
    "%matplotlib inline\n",
    "import torch\n",
    "import torch.nn as nn\n",
    "import torch.nn.functional as F\n",
    "import numpy as np\n",
    "import gym\n",
    "import matplotlib.pyplot as plt"
   ]
  },
  {
   "cell_type": "code",
   "execution_count": 3,
   "metadata": {},
   "outputs": [],
   "source": [
    "seed = 161\n",
    "# random.seed(seed)\n",
    "torch.manual_seed(seed)\n",
    "np.random.seed(seed)\n",
    "# os.environ['PYTHONHASHSEED'] = str(seed)"
   ]
  },
  {
   "cell_type": "code",
   "execution_count": 4,
   "metadata": {},
   "outputs": [],
   "source": [
    "# Hyper Parameters\n",
    "BATCH_SIZE = 32\n",
    "LR = 1e-2                  # learning rate\n",
    "EPSILON = 0.9               # greedy policy\n",
    "GAMMA = 0.9                 # reward discount\n",
    "TARGET_REPLACE_ITER = 100   # target update frequency\n",
    "MEMORY_CAPACITY = 2000"
   ]
  },
  {
   "cell_type": "code",
   "execution_count": 5,
   "metadata": {},
   "outputs": [],
   "source": [
    "env = gym.make('CartPole-v0')\n",
    "env = env.unwrapped\n",
    "env.seed(seed);"
   ]
  },
  {
   "cell_type": "code",
   "execution_count": 6,
   "metadata": {},
   "outputs": [],
   "source": [
    "N_ACTIONS = env.action_space.n\n",
    "N_STATES = env.observation_space.shape[0]\n",
    "ENV_A_SHAPE = 0 if isinstance(env.action_space.sample(), int) else env.action_space.sample().shape     # to confirm the shape"
   ]
  },
  {
   "cell_type": "code",
   "execution_count": 7,
   "metadata": {},
   "outputs": [],
   "source": [
    "class Net(nn.Module):\n",
    "    def __init__(self, ):\n",
    "        super(Net, self).__init__()\n",
    "        self.fc1 = nn.Linear(N_STATES, 50)\n",
    "        self.fc1.weight.data.normal_(0, 0.1)   # initialization\n",
    "        self.out = nn.Linear(50, N_ACTIONS)\n",
    "        self.out.weight.data.normal_(0, 0.1)   # initialization\n",
    "\n",
    "    def forward(self, x):\n",
    "        x = self.fc1(x)\n",
    "        x = F.relu(x)\n",
    "        actions_value = self.out(x)\n",
    "        return actions_value"
   ]
  },
  {
   "cell_type": "code",
   "execution_count": 8,
   "metadata": {},
   "outputs": [],
   "source": [
    "class DQN(object):\n",
    "    def __init__(self):\n",
    "        self.eval_net, self.target_net = Net(), Net()\n",
    "#         print(\"Neural net\")\n",
    "#         print(self.eval_net)\n",
    "\n",
    "        self.learn_step_counter = 0                                     # for target updating\n",
    "        \n",
    "        self.good_memory_counter = 0                                         # for storing memory\n",
    "        self.good_memory = np.zeros((int(MEMORY_CAPACITY/2), N_STATES * 2 + 2))     # initialize memory\n",
    "        \n",
    "        self.bad_memory_counter = 0                                         # for storing memory\n",
    "        self.bad_memory = np.zeros((int(MEMORY_CAPACITY/2), N_STATES * 2 + 2))     # initialize memory\n",
    "        \n",
    "        self.optimizer = torch.optim.Adam(self.eval_net.parameters(), lr=LR)\n",
    "        self.loss_func = nn.MSELoss()\n",
    "\n",
    "    def choose_action(self, x):\n",
    "        x = torch.unsqueeze(torch.FloatTensor(x), 0)\n",
    "        # input only one sample\n",
    "        if np.random.uniform() < EPSILON:   # greedy\n",
    "            actions_value = self.eval_net.forward(x)\n",
    "            action = torch.max(actions_value, 1)[1].data.numpy()\n",
    "            action = action[0] if ENV_A_SHAPE == 0 else action.reshape(ENV_A_SHAPE)  # return the argmax index\n",
    "        else:   # random\n",
    "            action = np.random.randint(0, N_ACTIONS)\n",
    "            action = action if ENV_A_SHAPE == 0 else action.reshape(ENV_A_SHAPE)\n",
    "        return action\n",
    "    \n",
    "    def choose_greedy_action(self, x):\n",
    "        x = torch.unsqueeze(torch.FloatTensor(x), 0)\n",
    "        # input only one sample\n",
    "        actions_value = self.eval_net.forward(x)\n",
    "        action = torch.max(actions_value, 1)[1].data.numpy()\n",
    "        action = action[0] if ENV_A_SHAPE == 0 else action.reshape(ENV_A_SHAPE)  # return the argmax index\n",
    "        return action\n",
    "\n",
    "    def store_transition(self, s, a, r, s_):\n",
    "        transition = np.hstack((s, [a, r], s_))\n",
    "        if r > 0:\n",
    "            # replace the old memory with new memory\n",
    "            index = self.good_memory_counter % int(MEMORY_CAPACITY/2)\n",
    "            self.good_memory[index, :] = transition\n",
    "            self.good_memory_counter += 1\n",
    "        \n",
    "        else:\n",
    "            # replace the old memory with new memory\n",
    "            index = self.bad_memory_counter % int(MEMORY_CAPACITY/2)\n",
    "            self.bad_memory[index, :] = transition\n",
    "            self.bad_memory_counter += 1\n",
    "\n",
    "    def learn(self):\n",
    "        # target parameter update\n",
    "        if self.learn_step_counter % TARGET_REPLACE_ITER == 0:\n",
    "            self.target_net.load_state_dict(self.eval_net.state_dict())\n",
    "        self.learn_step_counter += 1\n",
    "\n",
    "        # sample batch transitions\n",
    "        good_sample_index = np.random.choice(int(MEMORY_CAPACITY/2), int(BATCH_SIZE-12))\n",
    "        bad_sample_index  = np.random.choice(int(MEMORY_CAPACITY/2), int(12))\n",
    "\n",
    "        b_good_memory = self.good_memory[good_sample_index, :]\n",
    "        b_bad_memory = self.bad_memory[bad_sample_index, :]\n",
    "        b_memory = np.vstack((b_good_memory,b_bad_memory))\n",
    "        \n",
    "        b_s = torch.FloatTensor(b_memory[:, :N_STATES])\n",
    "        b_a = torch.LongTensor(b_memory[:, N_STATES:N_STATES+1].astype(int))\n",
    "        b_r = torch.FloatTensor(b_memory[:, N_STATES+1:N_STATES+2])\n",
    "        b_s_ = torch.FloatTensor(b_memory[:, -N_STATES:])\n",
    "\n",
    "        # q_eval w.r.t the action in experience\n",
    "        q_eval = self.eval_net(b_s).gather(1, b_a)  # shape (batch, 1)\n",
    "        q_next = self.target_net(b_s_).detach()     # detach from graph, don't backpropagate\n",
    "        q_target = b_r + GAMMA * q_next.max(1)[0].view(BATCH_SIZE, 1)   # shape (batch, 1)\n",
    "        loss = self.loss_func(q_eval, q_target)\n",
    "\n",
    "        self.optimizer.zero_grad()\n",
    "        loss.backward()\n",
    "        self.optimizer.step()"
   ]
  },
  {
   "cell_type": "code",
   "execution_count": 9,
   "metadata": {},
   "outputs": [],
   "source": [
    "dqn = DQN()\n",
    "NO_OF_EPISODES = int(MEMORY_CAPACITY/2) + 1000"
   ]
  },
  {
   "cell_type": "code",
   "execution_count": 10,
   "metadata": {},
   "outputs": [
    {
     "name": "stdout",
     "output_type": "stream",
     "text": [
      "\n",
      "Collecting experience...\n",
      "Learning starts from EPISODE:  1000\n",
      "EPISODE: 1350  |  REWARD:   1845.000  | TIME_STEPS:  1847 | LR: 1.00e-02 | EPSILON: 0.90 \n",
      "EPISODE: 1352  |  REWARD:   4037.000  | TIME_STEPS:  4039 | LR: 1.00e-02 | EPSILON: 0.90 \n",
      "EPISODE: 1362  |  REWARD:   1215.000  | TIME_STEPS:  1217 | LR: 1.00e-02 | EPSILON: 0.90 \n",
      "EPISODE: 1364  |  REWARD:   2057.000  | TIME_STEPS:  2059 | LR: 1.00e-02 | EPSILON: 0.90 \n",
      "EPISODE: 1365  |  REWARD:   6042.000  | TIME_STEPS:  6044 | LR: 1.00e-02 | EPSILON: 0.90 \n",
      "EPISODE: 1366  |  REWARD:   3690.000  | TIME_STEPS:  3692 | LR: 1.00e-02 | EPSILON: 0.90 \n",
      "EPISODE: 1367  |  REWARD:   3126.000  | TIME_STEPS:  3128 | LR: 1.00e-02 | EPSILON: 0.90 \n",
      "EPISODE: 1368  |  REWARD:   1072.000  | TIME_STEPS:  1074 | LR: 1.00e-02 | EPSILON: 0.90 \n",
      "EPISODE: 1369  |  REWARD:   1532.000  | TIME_STEPS:  1534 | LR: 1.00e-02 | EPSILON: 0.90 \n",
      "EPISODE: 1381  |  REWARD:  11010.000  | TIME_STEPS: 11012 | LR: 1.00e-02 | EPSILON: 0.90 \n",
      "EPISODE: 1382  |  REWARD:  14628.000  | TIME_STEPS: 14630 | LR: 1.00e-02 | EPSILON: 0.90 \n",
      "EPISODE: 1386  |  REWARD:  11829.000  | TIME_STEPS: 11831 | LR: 1.00e-02 | EPSILON: 0.90 \n",
      "EPISODE: 1387  |  REWARD:   3902.000  | TIME_STEPS:  3904 | LR: 1.00e-02 | EPSILON: 0.90 \n",
      "EPISODE: 1391  |  REWARD:  21202.000  | TIME_STEPS: 21204 | LR: 1.00e-02 | EPSILON: 0.90 \n",
      "EPISODE: 1392  |  REWARD:   1330.000  | TIME_STEPS:  1332 | LR: 1.00e-02 | EPSILON: 0.90 \n",
      "EPISODE: 1393  |  REWARD:   1609.000  | TIME_STEPS:  1611 | LR: 1.00e-02 | EPSILON: 0.90 \n",
      "EPISODE: 1509  |  REWARD:   3792.000  | TIME_STEPS:  3794 | LR: 1.00e-02 | EPSILON: 0.90 \n",
      "EPISODE: 1510  |  REWARD:  11493.000  | TIME_STEPS: 11495 | LR: 1.00e-02 | EPSILON: 0.90 \n",
      "EPISODE: 1511  |  REWARD:   1204.000  | TIME_STEPS:  1206 | LR: 1.00e-02 | EPSILON: 0.90 \n",
      "EPISODE: 1513  |  REWARD:   2178.000  | TIME_STEPS:  2180 | LR: 1.00e-02 | EPSILON: 0.90 \n",
      "EPISODE: 1514  |  REWARD:   4757.000  | TIME_STEPS:  4759 | LR: 1.00e-02 | EPSILON: 0.90 \n",
      "EPISODE: 1515  |  REWARD:  14411.000  | TIME_STEPS: 14413 | LR: 1.00e-02 | EPSILON: 0.90 \n",
      "EPISODE: 1516  |  REWARD:   8955.000  | TIME_STEPS:  8957 | LR: 1.00e-02 | EPSILON: 0.90 \n",
      "EPISODE: 1517  |  REWARD:   2411.000  | TIME_STEPS:  2413 | LR: 1.00e-02 | EPSILON: 0.90 \n",
      "EPISODE: 1518  |  REWARD:   2738.000  | TIME_STEPS:  2740 | LR: 1.00e-02 | EPSILON: 0.90 \n",
      "EPISODE: 1520  |  REWARD:   2807.000  | TIME_STEPS:  2809 | LR: 1.00e-02 | EPSILON: 0.90 \n",
      "EPISODE: 1522  |  REWARD:   2680.000  | TIME_STEPS:  2682 | LR: 1.00e-02 | EPSILON: 0.90 \n",
      "EPISODE: 1523  |  REWARD:   2403.000  | TIME_STEPS:  2405 | LR: 1.00e-02 | EPSILON: 0.90 \n",
      "EPISODE: 1558  |  REWARD:   1959.000  | TIME_STEPS:  1961 | LR: 1.00e-02 | EPSILON: 0.90 \n",
      "EPISODE: 1574  |  REWARD:   1279.000  | TIME_STEPS:  1281 | LR: 1.00e-02 | EPSILON: 0.90 \n",
      "EPISODE: 1580  |  REWARD:   1119.000  | TIME_STEPS:  1121 | LR: 1.00e-02 | EPSILON: 0.90 \n",
      "EPISODE: 1581  |  REWARD:   1438.000  | TIME_STEPS:  1440 | LR: 1.00e-02 | EPSILON: 0.90 \n",
      "EPISODE: 1582  |  REWARD:   1709.000  | TIME_STEPS:  1711 | LR: 1.00e-02 | EPSILON: 0.90 \n",
      "EPISODE: 1585  |  REWARD:   1691.000  | TIME_STEPS:  1693 | LR: 1.00e-02 | EPSILON: 0.90 \n",
      "EPISODE: 1637  |  REWARD:   2837.000  | TIME_STEPS:  2839 | LR: 1.00e-02 | EPSILON: 0.90 \n",
      "EPISODE: 1662  |  REWARD:   3128.000  | TIME_STEPS:  3130 | LR: 1.00e-02 | EPSILON: 0.90 \n",
      "EPISODE: 1682  |  REWARD:  40289.000  | TIME_STEPS: 40291 | LR: 1.00e-02 | EPSILON: 0.90 \n",
      "EPISODE: 1683  |  REWARD:  11585.000  | TIME_STEPS: 11587 | LR: 1.00e-02 | EPSILON: 0.90 \n",
      "EPISODE: 1684  |  REWARD:   1843.000  | TIME_STEPS:  1845 | LR: 1.00e-02 | EPSILON: 0.90 \n",
      "EPISODE: 1685  |  REWARD:   1150.000  | TIME_STEPS:  1152 | LR: 1.00e-02 | EPSILON: 0.90 \n",
      "EPISODE: 1687  |  REWARD:   1610.000  | TIME_STEPS:  1612 | LR: 1.00e-02 | EPSILON: 0.90 \n",
      "EPISODE: 1692  |  REWARD:  12582.000  | TIME_STEPS: 12584 | LR: 1.00e-02 | EPSILON: 0.90 \n",
      "EPISODE: 1816  |  REWARD:   1096.000  | TIME_STEPS:  1098 | LR: 1.00e-02 | EPSILON: 0.90 \n"
     ]
    }
   ],
   "source": [
    "print('\\nCollecting experience...')\n",
    "ep_r_rec = []\n",
    "time_rec = []\n",
    "flag = True\n",
    "learn_start = 0\n",
    "for i_episode in range(NO_OF_EPISODES):\n",
    "       \n",
    "    s = env.reset()\n",
    "    ep_r = 0\n",
    "    time_steps = 0\n",
    "    while True:\n",
    "#         env.render()\n",
    "        time_steps += 1\n",
    "        a = dqn.choose_action(s)\n",
    "\n",
    "        # take action\n",
    "        s_, r, done, info = env.step(a)\n",
    "        \n",
    "        if done:\n",
    "            r = -1\n",
    "            \n",
    "        dqn.store_transition(s, a, r, s_)\n",
    "        ep_r += r\n",
    "        if dqn.good_memory_counter > MEMORY_CAPACITY/2 and dqn.bad_memory_counter > MEMORY_CAPACITY/2:\n",
    "            dqn.learn()\n",
    "            if flag:\n",
    "                print(\"Learning starts from EPISODE: \",i_episode)\n",
    "                learn_start = i_episode\n",
    "                flag = False\n",
    "\n",
    "        if done:\n",
    "            ep_r_rec = np.append(ep_r_rec, ep_r)\n",
    "            time_rec = np.append(time_rec, time_steps)\n",
    "            if time_steps > 1000:\n",
    "                print('EPISODE: {:4d}  |  REWARD: {:10.3f}  | TIME_STEPS: {:5d} | LR: {:3.2e} | EPSILON: {:3.2f} '.format(i_episode, ep_r, time_steps, LR, EPSILON))\n",
    "            \n",
    "            break\n",
    "        s = s_"
   ]
  },
  {
   "cell_type": "code",
   "execution_count": 11,
   "metadata": {},
   "outputs": [
    {
     "data": {
      "image/png": "[encoded data removed]",
      "text/plain": [
       "<Figure size 1080x432 with 1 Axes>"
      ]
     },
     "metadata": {},
     "output_type": "display_data"
    }
   ],
   "source": [
    "fig = plt.figure(figsize = (15,6))\n",
    "\n",
    "ax2 = fig.add_subplot(2, 1, 1)\n",
    "data = time_rec[learn_start:]\n",
    "ax2.plot(data, color = 'g')\n",
    "ax2.plot(np.ones_like(data)*1500, 'g--')\n",
    "\n",
    "ax2.set_title('Time Steps',color = 'g')\n",
    "for xpt in [250,500]:\n",
    "    ax2.axvline(x=xpt,color='k',linewidth='0.8')\n",
    "ax2.set_yscale('log')\n",
    "ax2.set_ylim([1,2e4])\n",
    "\n",
    "fig.tight_layout()\n",
    "plt.show()"
   ]
  },
  {
   "cell_type": "code",
   "execution_count": 12,
   "metadata": {},
   "outputs": [],
   "source": [
    "env.close()"
   ]
  },
  {
   "cell_type": "code",
   "execution_count": 13,
   "metadata": {},
   "outputs": [],
   "source": [
    "# s = env.reset()\n",
    "# while True:\n",
    "#     env.render()\n",
    "#     a = dqn.choose_greedy_action(s)\n",
    "#     s_, r, done, info = env.step(a)\n",
    "#     if done:\n",
    "#         break\n",
    "#     s = s_"
   ]
  },
  {
   "cell_type": "code",
   "execution_count": 14,
   "metadata": {},
   "outputs": [],
   "source": [
    "# env.close()"
   ]
  },
  {
   "cell_type": "code",
   "execution_count": null,
   "metadata": {},
   "outputs": [],
   "source": []
  }
 ],
 "metadata": {
  "kernelspec": {
   "display_name": "Python 3",
   "language": "python",
   "name": "python3"
  },
  "language_info": {
   "codemirror_mode": {
    "name": "ipython",
    "version": 3
   },
   "file_extension": ".py",
   "mimetype": "text/x-python",
   "name": "python",
   "nbconvert_exporter": "python",
   "pygments_lexer": "ipython3",
   "version": "3.6.3"
  }
 },
 "nbformat": 4,
 "nbformat_minor": 2
}
