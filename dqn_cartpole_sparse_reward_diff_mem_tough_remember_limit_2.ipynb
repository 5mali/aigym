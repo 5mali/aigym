{
 "cells": [
  {
   "cell_type": "code",
   "execution_count": 1,
   "metadata": {},
   "outputs": [],
   "source": [
    "# \"\"\"\n",
    "# View more, visit my tutorial page: https://morvanzhou.github.io/tutorials/\n",
    "# My Youtube Channel: https://www.youtube.com/user/MorvanZhou\n",
    "# More about Reinforcement learning: https://morvanzhou.github.io/tutorials/machine-learning/reinforcement-learning/\n",
    "# Dependencies:\n",
    "# torch: 0.4\n",
    "# gym: 0.8.1\n",
    "# numpy\n",
    "# \"\"\""
   ]
  },
  {
   "cell_type": "code",
   "execution_count": 2,
   "metadata": {},
   "outputs": [],
   "source": [
    "%matplotlib inline\n",
    "import torch\n",
    "import torch.nn as nn\n",
    "import torch.nn.functional as F\n",
    "import numpy as np\n",
    "import gym\n",
    "import matplotlib.pyplot as plt"
   ]
  },
  {
   "cell_type": "code",
   "execution_count": 3,
   "metadata": {},
   "outputs": [],
   "source": [
    "seed = 161\n",
    "# random.seed(seed)\n",
    "torch.manual_seed(seed)\n",
    "np.random.seed(seed)\n",
    "# os.environ['PYTHONHASHSEED'] = str(seed)"
   ]
  },
  {
   "cell_type": "code",
   "execution_count": 4,
   "metadata": {},
   "outputs": [],
   "source": [
    "# Hyper Parameters\n",
    "BATCH_SIZE = 32\n",
    "LR = 1e-3                  # learning rate\n",
    "EPSILON = 0.9               # greedy policy\n",
    "GAMMA = 0.9                 # reward discount\n",
    "TARGET_REPLACE_ITER = 100   # target update frequency\n",
    "MEMORY_CAPACITY = 2000"
   ]
  },
  {
   "cell_type": "code",
   "execution_count": 5,
   "metadata": {},
   "outputs": [],
   "source": [
    "env = gym.make('CartPole-v0')\n",
    "env = env.unwrapped\n",
    "env.seed(seed);"
   ]
  },
  {
   "cell_type": "code",
   "execution_count": 6,
   "metadata": {},
   "outputs": [],
   "source": [
    "N_ACTIONS = env.action_space.n\n",
    "N_STATES = env.observation_space.shape[0]\n",
    "ENV_A_SHAPE = 0 if isinstance(env.action_space.sample(), int) else env.action_space.sample().shape     # to confirm the shape"
   ]
  },
  {
   "cell_type": "code",
   "execution_count": 7,
   "metadata": {},
   "outputs": [],
   "source": [
    "class Net(nn.Module):\n",
    "    def __init__(self, ):\n",
    "        super(Net, self).__init__()\n",
    "        self.fc1 = nn.Linear(N_STATES, 50)\n",
    "        nn.init.kaiming_uniform_(self.fc1.weight)   # initialization\n",
    "        self.out = nn.Linear(50, N_ACTIONS)\n",
    "        nn.init.xavier_uniform_(self.out.weight)   # initialization\n",
    "\n",
    "    def forward(self, x):\n",
    "        x = self.fc1(x)\n",
    "        x = F.relu(x)\n",
    "        actions_value = self.out(x)\n",
    "        return actions_value"
   ]
  },
  {
   "cell_type": "code",
   "execution_count": 8,
   "metadata": {},
   "outputs": [],
   "source": [
    "class DQN(object):\n",
    "    def __init__(self):\n",
    "        self.eval_net, self.target_net = Net(), Net()\n",
    "#         print(\"Neural net\")\n",
    "#         print(self.eval_net)\n",
    "\n",
    "        self.learn_step_counter = 0                                     # for target updating\n",
    "        \n",
    "        self.good_memory_counter = 0                                         # for storing memory\n",
    "        self.good_memory = np.zeros((int(MEMORY_CAPACITY/2), N_STATES * 2 + 2))     # initialize memory\n",
    "        \n",
    "        self.bad_memory_counter = 0                                         # for storing memory\n",
    "        self.bad_memory = np.zeros((int(MEMORY_CAPACITY/2), N_STATES * 2 + 2))     # initialize memory\n",
    "        \n",
    "        self.optimizer = torch.optim.Adam(self.eval_net.parameters(), lr=LR)\n",
    "        self.loss_func = nn.MSELoss()\n",
    "\n",
    "    def choose_action(self, x):\n",
    "        x = torch.unsqueeze(torch.FloatTensor(x), 0)\n",
    "        # input only one sample\n",
    "        if np.random.uniform() < EPSILON:   # greedy\n",
    "            actions_value = self.eval_net.forward(x)\n",
    "            action = torch.max(actions_value, 1)[1].data.numpy()\n",
    "            action = action[0] if ENV_A_SHAPE == 0 else action.reshape(ENV_A_SHAPE)  # return the argmax index\n",
    "        else:   # random\n",
    "            action = np.random.randint(0, N_ACTIONS)\n",
    "            action = action if ENV_A_SHAPE == 0 else action.reshape(ENV_A_SHAPE)\n",
    "        return action\n",
    "    \n",
    "    def choose_greedy_action(self, x):\n",
    "        x = torch.unsqueeze(torch.FloatTensor(x), 0)\n",
    "        # input only one sample\n",
    "        actions_value = self.eval_net.forward(x)\n",
    "        action = torch.max(actions_value, 1)[1].data.numpy()\n",
    "        action = action[0] if ENV_A_SHAPE == 0 else action.reshape(ENV_A_SHAPE)  # return the argmax index\n",
    "        return action\n",
    "\n",
    "    def store_transition(self, s, a, r, s_):\n",
    "        transition = np.hstack((s, [a, r], s_))\n",
    "        if r > 0:\n",
    "            # replace the old memory with new memory\n",
    "            index = self.good_memory_counter % int(MEMORY_CAPACITY/2)\n",
    "            self.good_memory[index, :] = transition\n",
    "            self.good_memory_counter += 1\n",
    "        \n",
    "        else:\n",
    "            # replace the old memory with new memory\n",
    "            index = self.bad_memory_counter % int(MEMORY_CAPACITY/2)\n",
    "            self.bad_memory[index, :] = transition\n",
    "            self.bad_memory_counter += 1\n",
    "\n",
    "    def learn(self):\n",
    "        # target parameter update\n",
    "        if self.learn_step_counter % TARGET_REPLACE_ITER == 0:\n",
    "            self.target_net.load_state_dict(self.eval_net.state_dict())\n",
    "        self.learn_step_counter += 1\n",
    "\n",
    "        # sample batch transitions\n",
    "        good_sample_index = np.random.choice(int(MEMORY_CAPACITY/2), int(6))\n",
    "        bad_sample_index  = np.random.choice(int(MEMORY_CAPACITY/2), int(BATCH_SIZE-6))\n",
    "\n",
    "        b_good_memory = self.good_memory[good_sample_index, :]\n",
    "        b_bad_memory = self.bad_memory[bad_sample_index, :]\n",
    "        b_memory = np.vstack((b_good_memory,b_bad_memory))\n",
    "        \n",
    "        b_s = torch.FloatTensor(b_memory[:, :N_STATES])\n",
    "        b_a = torch.LongTensor(b_memory[:, N_STATES:N_STATES+1].astype(int))\n",
    "        b_r = torch.FloatTensor(b_memory[:, N_STATES+1:N_STATES+2])\n",
    "        b_s_ = torch.FloatTensor(b_memory[:, -N_STATES:])\n",
    "\n",
    "        # q_eval w.r.t the action in experience\n",
    "        q_eval = self.eval_net(b_s).gather(1, b_a)  # shape (batch, 1)\n",
    "        q_next = self.target_net(b_s_).detach()     # detach from graph, don't backpropagate\n",
    "        q_target = b_r + GAMMA * q_next.max(1)[0].view(BATCH_SIZE, 1)   # shape (batch, 1)\n",
    "        loss = self.loss_func(q_eval, q_target)\n",
    "\n",
    "        self.optimizer.zero_grad()\n",
    "        loss.backward()\n",
    "        self.optimizer.step()"
   ]
  },
  {
   "cell_type": "code",
   "execution_count": 9,
   "metadata": {},
   "outputs": [],
   "source": [
    "dqn = DQN()\n",
    "NO_OF_EPISODES = int(MEMORY_CAPACITY/2) + 1000"
   ]
  },
  {
   "cell_type": "code",
   "execution_count": null,
   "metadata": {},
   "outputs": [
    {
     "name": "stdout",
     "output_type": "stream",
     "text": [
      "\n",
      "Collecting experience...\n",
      "Learning starts from EPISODE:  1000\n",
      "EPISODE: 1366  |  REWARD:   9203.000  | TIME_STEPS:  9205 | LR: 1.00e-03 | EPSILON: 0.90 \n",
      "EPISODE: 1367  |  REWARD:   1234.000  | TIME_STEPS:  1236 | LR: 1.00e-03 | EPSILON: 0.90 \n",
      "EPISODE: 1375  |  REWARD:   1121.000  | TIME_STEPS:  1123 | LR: 1.00e-03 | EPSILON: 0.90 \n",
      "EPISODE: 1382  |  REWARD:   1145.000  | TIME_STEPS:  1147 | LR: 1.00e-03 | EPSILON: 0.90 \n",
      "EPISODE: 1383  |  REWARD:   1197.000  | TIME_STEPS:  1199 | LR: 1.00e-03 | EPSILON: 0.90 \n",
      "EPISODE: 1384  |  REWARD:   1051.000  | TIME_STEPS:  1053 | LR: 1.00e-03 | EPSILON: 0.90 \n",
      "EPISODE: 1387  |  REWARD:  87542.000  | TIME_STEPS: 87544 | LR: 1.00e-03 | EPSILON: 0.90 \n",
      "EPISODE: 1388  |  REWARD:   1725.000  | TIME_STEPS:  1727 | LR: 1.00e-03 | EPSILON: 0.90 \n",
      "EPISODE: 1389  |  REWARD:   1908.000  | TIME_STEPS:  1910 | LR: 1.00e-03 | EPSILON: 0.90 \n",
      "EPISODE: 1441  |  REWARD:  62650.000  | TIME_STEPS: 62652 | LR: 1.00e-03 | EPSILON: 0.90 \n",
      "EPISODE: 1442  |  REWARD:   1074.000  | TIME_STEPS:  1076 | LR: 1.00e-03 | EPSILON: 0.90 \n",
      "EPISODE: 1443  |  REWARD:   2106.000  | TIME_STEPS:  2108 | LR: 1.00e-03 | EPSILON: 0.90 \n",
      "EPISODE: 1448  |  REWARD:   1025.000  | TIME_STEPS:  1027 | LR: 1.00e-03 | EPSILON: 0.90 \n",
      "EPISODE: 1449  |  REWARD:  18808.000  | TIME_STEPS: 18810 | LR: 1.00e-03 | EPSILON: 0.90 \n",
      "EPISODE: 1450  |  REWARD:   6714.000  | TIME_STEPS:  6716 | LR: 1.00e-03 | EPSILON: 0.90 \n",
      "EPISODE: 1451  |  REWARD:   2538.000  | TIME_STEPS:  2540 | LR: 1.00e-03 | EPSILON: 0.90 \n",
      "EPISODE: 1462  |  REWARD:   7590.000  | TIME_STEPS:  7592 | LR: 1.00e-03 | EPSILON: 0.90 \n",
      "EPISODE: 1465  |  REWARD:   6330.000  | TIME_STEPS:  6332 | LR: 1.00e-03 | EPSILON: 0.90 \n",
      "EPISODE: 1466  |  REWARD:   2429.000  | TIME_STEPS:  2431 | LR: 1.00e-03 | EPSILON: 0.90 \n",
      "EPISODE: 1468  |  REWARD:   9010.000  | TIME_STEPS:  9012 | LR: 1.00e-03 | EPSILON: 0.90 \n",
      "EPISODE: 1469  |  REWARD:   4016.000  | TIME_STEPS:  4018 | LR: 1.00e-03 | EPSILON: 0.90 \n",
      "EPISODE: 1471  |  REWARD:  11091.000  | TIME_STEPS: 11093 | LR: 1.00e-03 | EPSILON: 0.90 \n",
      "EPISODE: 1472  |  REWARD:   3952.000  | TIME_STEPS:  3954 | LR: 1.00e-03 | EPSILON: 0.90 \n",
      "EPISODE: 1473  |  REWARD:   1666.000  | TIME_STEPS:  1668 | LR: 1.00e-03 | EPSILON: 0.90 \n",
      "EPISODE: 1480  |  REWARD:  13280.000  | TIME_STEPS: 13282 | LR: 1.00e-03 | EPSILON: 0.90 \n",
      "EPISODE: 1482  |  REWARD:   1850.000  | TIME_STEPS:  1852 | LR: 1.00e-03 | EPSILON: 0.90 \n",
      "EPISODE: 1483  |  REWARD:   2483.000  | TIME_STEPS:  2485 | LR: 1.00e-03 | EPSILON: 0.90 \n",
      "EPISODE: 1489  |  REWARD:   1042.000  | TIME_STEPS:  1044 | LR: 1.00e-03 | EPSILON: 0.90 \n",
      "EPISODE: 1490  |  REWARD:   1413.000  | TIME_STEPS:  1415 | LR: 1.00e-03 | EPSILON: 0.90 \n",
      "EPISODE: 1491  |  REWARD:   1140.000  | TIME_STEPS:  1142 | LR: 1.00e-03 | EPSILON: 0.90 \n",
      "EPISODE: 1497  |  REWARD:  15104.000  | TIME_STEPS: 15106 | LR: 1.00e-03 | EPSILON: 0.90 \n",
      "EPISODE: 1498  |  REWARD:   7947.000  | TIME_STEPS:  7949 | LR: 1.00e-03 | EPSILON: 0.90 \n",
      "EPISODE: 1499  |  REWARD:  98747.000  | TIME_STEPS: 98749 | LR: 1.00e-03 | EPSILON: 0.90 \n",
      "EPISODE: 1500  |  REWARD:   1007.000  | TIME_STEPS:  1009 | LR: 1.00e-03 | EPSILON: 0.90 \n",
      "EPISODE: 1502  |  REWARD:  36520.000  | TIME_STEPS: 36522 | LR: 1.00e-03 | EPSILON: 0.90 \n",
      "EPISODE: 1543  |  REWARD:  63953.000  | TIME_STEPS: 63955 | LR: 1.00e-03 | EPSILON: 0.90 \n",
      "EPISODE: 1544  |  REWARD:   3884.000  | TIME_STEPS:  3886 | LR: 1.00e-03 | EPSILON: 0.90 \n",
      "EPISODE: 1546  |  REWARD:  15717.000  | TIME_STEPS: 15719 | LR: 1.00e-03 | EPSILON: 0.90 \n",
      "EPISODE: 1548  |  REWARD:   5536.000  | TIME_STEPS:  5538 | LR: 1.00e-03 | EPSILON: 0.90 \n",
      "EPISODE: 1549  |  REWARD:   4298.000  | TIME_STEPS:  4300 | LR: 1.00e-03 | EPSILON: 0.90 \n",
      "EPISODE: 1550  |  REWARD:   8168.000  | TIME_STEPS:  8170 | LR: 1.00e-03 | EPSILON: 0.90 \n",
      "EPISODE: 1551  |  REWARD:   8269.000  | TIME_STEPS:  8271 | LR: 1.00e-03 | EPSILON: 0.90 \n",
      "EPISODE: 1552  |  REWARD:   2565.000  | TIME_STEPS:  2567 | LR: 1.00e-03 | EPSILON: 0.90 \n"
     ]
    }
   ],
   "source": [
    "print('\\nCollecting experience...')\n",
    "ep_r_rec = []\n",
    "time_rec = []\n",
    "flag = True\n",
    "learn_start = 0\n",
    "for i_episode in range(NO_OF_EPISODES):\n",
    "       \n",
    "    s = env.reset()\n",
    "    ep_r = 0\n",
    "    time_steps = 0\n",
    "    stop_remember = False\n",
    "    while True:\n",
    "#         env.render()\n",
    "        time_steps += 1\n",
    "        a = dqn.choose_action(s)\n",
    "\n",
    "        # take action\n",
    "        s_, r, done, info = env.step(a)\n",
    "        \n",
    "        if time_steps > 4000:\n",
    "            stop_remember = True\n",
    "        \n",
    "        if (stop_remember == False):\n",
    "            dqn.store_transition(s, a, r, s_)\n",
    "        \n",
    "        if done:\n",
    "            r = -1\n",
    "            dqn.store_transition(s, a, r, s_)\n",
    "        \n",
    "        ep_r += r\n",
    "        if dqn.good_memory_counter > MEMORY_CAPACITY/2 and dqn.bad_memory_counter > MEMORY_CAPACITY/2:\n",
    "            dqn.learn()\n",
    "            if flag:\n",
    "                print(\"Learning starts from EPISODE: \",i_episode)\n",
    "                learn_start = i_episode\n",
    "                flag = False\n",
    "        \n",
    "        if done:\n",
    "            ep_r_rec = np.append(ep_r_rec, ep_r)\n",
    "            time_rec = np.append(time_rec, time_steps)\n",
    "            if time_steps > 1000:\n",
    "                print('EPISODE: {:4d}  |  REWARD: {:10.3f}  | TIME_STEPS: {:5d} | LR: {:3.2e} | EPSILON: {:3.2f} '.format(i_episode, ep_r, time_steps, LR, EPSILON))\n",
    "            \n",
    "            break\n",
    "        s = s_"
   ]
  },
  {
   "cell_type": "code",
   "execution_count": null,
   "metadata": {},
   "outputs": [],
   "source": [
    "fig = plt.figure(figsize = (15,6))\n",
    "\n",
    "ax2 = fig.add_subplot(2, 1, 1)\n",
    "data = time_rec[learn_start:]\n",
    "ax2.plot(data, color = 'g')\n",
    "ax2.plot(np.ones_like(data)*1500, 'g--')\n",
    "ax2.plot(np.ones_like(data)*200, 'r--')\n",
    "\n",
    "ax2.set_title('Time Steps',color = 'g')\n",
    "for xpt in [250,500]:\n",
    "    ax2.axvline(x=xpt,color='k',linewidth='0.8')\n",
    "ax2.set_yscale('log')\n",
    "ax2.set_ylim([1,1e4])\n",
    "fig.tight_layout()\n",
    "ax2.grid()\n",
    "plt.show()"
   ]
  },
  {
   "cell_type": "code",
   "execution_count": null,
   "metadata": {},
   "outputs": [],
   "source": [
    "data.mean()"
   ]
  },
  {
   "cell_type": "code",
   "execution_count": null,
   "metadata": {},
   "outputs": [],
   "source": [
    "env.close()"
   ]
  },
  {
   "cell_type": "code",
   "execution_count": null,
   "metadata": {},
   "outputs": [],
   "source": [
    "# s = env.reset()\n",
    "# while True:\n",
    "#     env.render()\n",
    "#     a = dqn.choose_greedy_action(s)\n",
    "#     s_, r, done, info = env.step(a)\n",
    "#     if done:\n",
    "#         break\n",
    "#     s = s_"
   ]
  },
  {
   "cell_type": "code",
   "execution_count": null,
   "metadata": {},
   "outputs": [],
   "source": [
    "# env.close()"
   ]
  },
  {
   "cell_type": "code",
   "execution_count": null,
   "metadata": {},
   "outputs": [],
   "source": []
  }
 ],
 "metadata": {
  "kernelspec": {
   "display_name": "Python 3",
   "language": "python",
   "name": "python3"
  },
  "language_info": {
   "codemirror_mode": {
    "name": "ipython",
    "version": 3
   },
   "file_extension": ".py",
   "mimetype": "text/x-python",
   "name": "python",
   "nbconvert_exporter": "python",
   "pygments_lexer": "ipython3",
   "version": "3.6.3"
  }
 },
 "nbformat": 4,
 "nbformat_minor": 2
}
