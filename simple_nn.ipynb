{
 "cells": [
  {
   "cell_type": "code",
   "execution_count": 1,
   "metadata": {},
   "outputs": [],
   "source": [
    "import torch\n",
    "import torch.nn as nn"
   ]
  },
  {
   "cell_type": "code",
   "execution_count": 2,
   "metadata": {},
   "outputs": [],
   "source": [
    "# Defining input size, hidden layer size, output size and batch size respectively\n",
    "n_in, n_h, n_out, batch_size = 10, 5, 1, 10"
   ]
  },
  {
   "cell_type": "code",
   "execution_count": 3,
   "metadata": {},
   "outputs": [],
   "source": [
    "# Create dummy input and target tensors (data)\n",
    "x = torch.randn(batch_size, n_in)\n",
    "y = torch.tensor([[1.0], [0.0], [0.0], [1.0], [1.0], [1.0], [0.0], [0.0], [1.0], [1.0]])"
   ]
  },
  {
   "cell_type": "code",
   "execution_count": 4,
   "metadata": {},
   "outputs": [],
   "source": [
    "# Create a model\n",
    "model = nn.Sequential(nn.Linear(n_in, n_h),\n",
    "                     nn.ReLU(),\n",
    "                     nn.Linear(n_h, n_out),\n",
    "                     nn.Sigmoid())"
   ]
  },
  {
   "cell_type": "code",
   "execution_count": 8,
   "metadata": {},
   "outputs": [
    {
     "name": "stdout",
     "output_type": "stream",
     "text": [
      "Sequential(\n",
      "  (0): Linear(in_features=10, out_features=5, bias=True)\n",
      "  (1): ReLU()\n",
      "  (2): Linear(in_features=5, out_features=1, bias=True)\n",
      "  (3): Sigmoid()\n",
      ")\n"
     ]
    }
   ],
   "source": [
    "print(model)"
   ]
  },
  {
   "cell_type": "markdown",
   "metadata": {},
   "source": [
    "This creates a model that looks like input -> linear -> relu -> linear -> sigmoid. "
   ]
  },
  {
   "cell_type": "code",
   "execution_count": 5,
   "metadata": {},
   "outputs": [],
   "source": [
    "# Construct the loss function\n",
    "criterion = torch.nn.MSELoss()"
   ]
  },
  {
   "cell_type": "code",
   "execution_count": 6,
   "metadata": {},
   "outputs": [],
   "source": [
    "# Construct the optimizer (Stochastic Gradient Descent in this case)\n",
    "optimizer = torch.optim.SGD(model.parameters(), lr=0.01)"
   ]
  },
  {
   "cell_type": "code",
   "execution_count": 7,
   "metadata": {},
   "outputs": [
    {
     "name": "stdout",
     "output_type": "stream",
     "text": [
      "epoch:  0  loss:  0.25969141721725464\n",
      "epoch:  1  loss:  0.2594940960407257\n",
      "epoch:  2  loss:  0.2592969834804535\n",
      "epoch:  3  loss:  0.259100079536438\n",
      "epoch:  4  loss:  0.2589034140110016\n",
      "epoch:  5  loss:  0.2587069571018219\n",
      "epoch:  6  loss:  0.2585107088088989\n",
      "epoch:  7  loss:  0.2583146393299103\n",
      "epoch:  8  loss:  0.25811880826950073\n",
      "epoch:  9  loss:  0.2579231858253479\n",
      "epoch:  10  loss:  0.2577277421951294\n",
      "epoch:  11  loss:  0.25753253698349\n",
      "epoch:  12  loss:  0.2573375403881073\n",
      "epoch:  13  loss:  0.25714272260665894\n",
      "epoch:  14  loss:  0.2569480836391449\n",
      "epoch:  15  loss:  0.2567557990550995\n",
      "epoch:  16  loss:  0.25656986236572266\n",
      "epoch:  17  loss:  0.25638413429260254\n",
      "epoch:  18  loss:  0.25619861483573914\n",
      "epoch:  19  loss:  0.25601333379745483\n",
      "epoch:  20  loss:  0.25582826137542725\n",
      "epoch:  21  loss:  0.25564342737197876\n",
      "epoch:  22  loss:  0.2554587721824646\n",
      "epoch:  23  loss:  0.25527438521385193\n",
      "epoch:  24  loss:  0.2550901472568512\n",
      "epoch:  25  loss:  0.25490617752075195\n",
      "epoch:  26  loss:  0.25472238659858704\n",
      "epoch:  27  loss:  0.25453880429267883\n",
      "epoch:  28  loss:  0.25435546040534973\n",
      "epoch:  29  loss:  0.25417229533195496\n",
      "epoch:  30  loss:  0.2539893388748169\n",
      "epoch:  31  loss:  0.25380659103393555\n",
      "epoch:  32  loss:  0.2536240518093109\n",
      "epoch:  33  loss:  0.2534416913986206\n",
      "epoch:  34  loss:  0.253259539604187\n",
      "epoch:  35  loss:  0.25307756662368774\n",
      "epoch:  36  loss:  0.2528958022594452\n",
      "epoch:  37  loss:  0.2527146637439728\n",
      "epoch:  38  loss:  0.2525305449962616\n",
      "epoch:  39  loss:  0.2523467540740967\n",
      "epoch:  40  loss:  0.2521633207798004\n",
      "epoch:  41  loss:  0.2519802749156952\n",
      "epoch:  42  loss:  0.25179755687713623\n",
      "epoch:  43  loss:  0.2516151964664459\n",
      "epoch:  44  loss:  0.25143319368362427\n",
      "epoch:  45  loss:  0.25125157833099365\n",
      "epoch:  46  loss:  0.2510702311992645\n",
      "epoch:  47  loss:  0.25088930130004883\n",
      "epoch:  48  loss:  0.250708669424057\n",
      "epoch:  49  loss:  0.2505284249782562\n"
     ]
    }
   ],
   "source": [
    "# Gradient Descent\n",
    "for epoch in range(50):\n",
    "    # Forward pass: Compute predicted y by passing x to the model\n",
    "    y_pred = model(x)\n",
    "\n",
    "    # Compute and print loss\n",
    "    loss = criterion(y_pred, y)\n",
    "    print('epoch: ', epoch,' loss: ', loss.item())\n",
    "\n",
    "    # Zero gradients, perform a backward pass, and update the weights.\n",
    "    optimizer.zero_grad()\n",
    "    \n",
    "    # perform a backward pass (backpropagation)\n",
    "    loss.backward()\n",
    "    \n",
    "    # Update the parameters\n",
    "    optimizer.step()"
   ]
  },
  {
   "cell_type": "code",
   "execution_count": null,
   "metadata": {},
   "outputs": [],
   "source": []
  }
 ],
 "metadata": {
  "kernelspec": {
   "display_name": "Python 3",
   "language": "python",
   "name": "python3"
  },
  "language_info": {
   "codemirror_mode": {
    "name": "ipython",
    "version": 3
   },
   "file_extension": ".py",
   "mimetype": "text/x-python",
   "name": "python",
   "nbconvert_exporter": "python",
   "pygments_lexer": "ipython3",
   "version": "3.6.7"
  }
 },
 "nbformat": 4,
 "nbformat_minor": 2
}
