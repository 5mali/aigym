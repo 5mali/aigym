{
 "cells": [
  {
   "cell_type": "code",
   "execution_count": 1,
   "metadata": {},
   "outputs": [],
   "source": [
    "# \"\"\"\n",
    "# View more, visit my tutorial page: https://morvanzhou.github.io/tutorials/\n",
    "# My Youtube Channel: https://www.youtube.com/user/MorvanZhou\n",
    "# More about Reinforcement learning: https://morvanzhou.github.io/tutorials/machine-learning/reinforcement-learning/\n",
    "# Dependencies:\n",
    "# torch: 0.4\n",
    "# gym: 0.8.1\n",
    "# numpy\n",
    "# \"\"\""
   ]
  },
  {
   "cell_type": "code",
   "execution_count": 2,
   "metadata": {},
   "outputs": [],
   "source": [
    "%matplotlib inline\n",
    "import torch\n",
    "import torch.nn as nn\n",
    "import torch.nn.functional as F\n",
    "import numpy as np\n",
    "import gym\n",
    "import matplotlib.pyplot as plt"
   ]
  },
  {
   "cell_type": "code",
   "execution_count": 3,
   "metadata": {},
   "outputs": [],
   "source": [
    "seed = 161\n",
    "# random.seed(seed)\n",
    "torch.manual_seed(seed)\n",
    "np.random.seed(seed)\n",
    "# os.environ['PYTHONHASHSEED'] = str(seed)"
   ]
  },
  {
   "cell_type": "code",
   "execution_count": 4,
   "metadata": {},
   "outputs": [],
   "source": [
    "# Hyper Parameters\n",
    "BATCH_SIZE = 32\n",
    "LR = 1e-2                  # learning rate\n",
    "EPSILON = 0.9               # greedy policy\n",
    "GAMMA = 0.9                 # reward discount\n",
    "TARGET_REPLACE_ITER = 100   # target update frequency\n",
    "MEMORY_CAPACITY = 2000"
   ]
  },
  {
   "cell_type": "code",
   "execution_count": 5,
   "metadata": {},
   "outputs": [],
   "source": [
    "env = gym.make('CartPole-v0')\n",
    "env = env.unwrapped\n",
    "env.seed(seed);"
   ]
  },
  {
   "cell_type": "code",
   "execution_count": 6,
   "metadata": {},
   "outputs": [],
   "source": [
    "N_ACTIONS = env.action_space.n\n",
    "N_STATES = env.observation_space.shape[0]\n",
    "ENV_A_SHAPE = 0 if isinstance(env.action_space.sample(), int) else env.action_space.sample().shape     # to confirm the shape"
   ]
  },
  {
   "cell_type": "code",
   "execution_count": 7,
   "metadata": {},
   "outputs": [],
   "source": [
    "class Net(nn.Module):\n",
    "    def __init__(self, ):\n",
    "        super(Net, self).__init__()\n",
    "        self.fc1 = nn.Linear(N_STATES, 50)\n",
    "        nn.init.kaiming_uniform_(self.fc1.weight)   # initialization\n",
    "        self.out = nn.Linear(50, N_ACTIONS)\n",
    "        nn.init.xavier_uniform_(self.out.weight)   # initialization\n",
    "\n",
    "    def forward(self, x):\n",
    "        x = self.fc1(x)\n",
    "        x = F.relu(x)\n",
    "        actions_value = self.out(x)\n",
    "        return actions_value"
   ]
  },
  {
   "cell_type": "code",
   "execution_count": 8,
   "metadata": {},
   "outputs": [],
   "source": [
    "class DQN(object):\n",
    "    def __init__(self):\n",
    "        self.eval_net, self.target_net = Net(), Net()\n",
    "#         print(\"Neural net\")\n",
    "#         print(self.eval_net)\n",
    "\n",
    "        self.learn_step_counter = 0                                     # for target updating\n",
    "        \n",
    "        self.good_memory_counter = 0                                         # for storing memory\n",
    "        self.good_memory = np.zeros((int(MEMORY_CAPACITY/2), N_STATES * 2 + 2))     # initialize memory\n",
    "        \n",
    "        self.bad_memory_counter = 0                                         # for storing memory\n",
    "        self.bad_memory = np.zeros((int(MEMORY_CAPACITY/2), N_STATES * 2 + 2))     # initialize memory\n",
    "        \n",
    "        self.optimizer = torch.optim.Adam(self.eval_net.parameters(), lr=LR)\n",
    "        self.loss_func = nn.MSELoss()\n",
    "\n",
    "    def choose_action(self, x):\n",
    "        x = torch.unsqueeze(torch.FloatTensor(x), 0)\n",
    "        # input only one sample\n",
    "        if np.random.uniform() < EPSILON:   # greedy\n",
    "            actions_value = self.eval_net.forward(x)\n",
    "            action = torch.max(actions_value, 1)[1].data.numpy()\n",
    "            action = action[0] if ENV_A_SHAPE == 0 else action.reshape(ENV_A_SHAPE)  # return the argmax index\n",
    "        else:   # random\n",
    "            action = np.random.randint(0, N_ACTIONS)\n",
    "            action = action if ENV_A_SHAPE == 0 else action.reshape(ENV_A_SHAPE)\n",
    "        return action\n",
    "    \n",
    "    def choose_greedy_action(self, x):\n",
    "        x = torch.unsqueeze(torch.FloatTensor(x), 0)\n",
    "        # input only one sample\n",
    "        actions_value = self.eval_net.forward(x)\n",
    "        action = torch.max(actions_value, 1)[1].data.numpy()\n",
    "        action = action[0] if ENV_A_SHAPE == 0 else action.reshape(ENV_A_SHAPE)  # return the argmax index\n",
    "        return action\n",
    "\n",
    "    def store_transition(self, s, a, r, s_):\n",
    "        transition = np.hstack((s, [a, r], s_))\n",
    "        if r > 0:\n",
    "            # replace the old memory with new memory\n",
    "            index = self.good_memory_counter % int(MEMORY_CAPACITY/2)\n",
    "            self.good_memory[index, :] = transition\n",
    "            self.good_memory_counter += 1\n",
    "        \n",
    "        else:\n",
    "            # replace the old memory with new memory\n",
    "            index = self.bad_memory_counter % int(MEMORY_CAPACITY/2)\n",
    "            self.bad_memory[index, :] = transition\n",
    "            self.bad_memory_counter += 1\n",
    "\n",
    "    def learn(self):\n",
    "        # target parameter update\n",
    "        if self.learn_step_counter % TARGET_REPLACE_ITER == 0:\n",
    "            self.target_net.load_state_dict(self.eval_net.state_dict())\n",
    "        self.learn_step_counter += 1\n",
    "\n",
    "        # sample batch transitions\n",
    "        good_sample_index = np.random.choice(int(MEMORY_CAPACITY/2), int(6))\n",
    "        bad_sample_index  = np.random.choice(int(MEMORY_CAPACITY/2), int(BATCH_SIZE-6))\n",
    "\n",
    "        b_good_memory = self.good_memory[good_sample_index, :]\n",
    "        b_bad_memory = self.bad_memory[bad_sample_index, :]\n",
    "        b_memory = np.vstack((b_good_memory,b_bad_memory))\n",
    "        \n",
    "        b_s = torch.FloatTensor(b_memory[:, :N_STATES])\n",
    "        b_a = torch.LongTensor(b_memory[:, N_STATES:N_STATES+1].astype(int))\n",
    "        b_r = torch.FloatTensor(b_memory[:, N_STATES+1:N_STATES+2])\n",
    "        b_s_ = torch.FloatTensor(b_memory[:, -N_STATES:])\n",
    "\n",
    "        # q_eval w.r.t the action in experience\n",
    "        q_eval = self.eval_net(b_s).gather(1, b_a)  # shape (batch, 1)\n",
    "        q_next = self.target_net(b_s_).detach()     # detach from graph, don't backpropagate\n",
    "        q_target = b_r + GAMMA * q_next.max(1)[0].view(BATCH_SIZE, 1)   # shape (batch, 1)\n",
    "        loss = self.loss_func(q_eval, q_target)\n",
    "\n",
    "        self.optimizer.zero_grad()\n",
    "        loss.backward()\n",
    "        self.optimizer.step()"
   ]
  },
  {
   "cell_type": "code",
   "execution_count": 9,
   "metadata": {},
   "outputs": [],
   "source": [
    "dqn = DQN()\n",
    "NO_OF_EPISODES = int(MEMORY_CAPACITY/2) + 1000"
   ]
  },
  {
   "cell_type": "code",
   "execution_count": 10,
   "metadata": {},
   "outputs": [
    {
     "name": "stdout",
     "output_type": "stream",
     "text": [
      "\n",
      "Collecting experience...\n",
      "Learning starts from EPISODE:  1000\n",
      "EPISODE: 1714  |  REWARD:  13552.000  | TIME_STEPS: 13554 | LR: 1.00e-02 | EPSILON: 0.90 \n",
      "EPISODE: 1716  |  REWARD:  52539.000  | TIME_STEPS: 52541 | LR: 1.00e-02 | EPSILON: 0.90 \n",
      "EPISODE: 1717  |  REWARD:   1805.000  | TIME_STEPS:  1807 | LR: 1.00e-02 | EPSILON: 0.90 \n",
      "EPISODE: 1723  |  REWARD:   2920.000  | TIME_STEPS:  2922 | LR: 1.00e-02 | EPSILON: 0.90 \n",
      "EPISODE: 1724  |  REWARD:   2092.000  | TIME_STEPS:  2094 | LR: 1.00e-02 | EPSILON: 0.90 \n",
      "EPISODE: 1725  |  REWARD:   2932.000  | TIME_STEPS:  2934 | LR: 1.00e-02 | EPSILON: 0.90 \n",
      "EPISODE: 1726  |  REWARD: 109330.000  | TIME_STEPS: 109332 | LR: 1.00e-02 | EPSILON: 0.90 \n",
      "EPISODE: 1727  |  REWARD:   2758.000  | TIME_STEPS:  2760 | LR: 1.00e-02 | EPSILON: 0.90 \n",
      "EPISODE: 1728  |  REWARD:   2666.000  | TIME_STEPS:  2668 | LR: 1.00e-02 | EPSILON: 0.90 \n",
      "EPISODE: 1729  |  REWARD:   6330.000  | TIME_STEPS:  6332 | LR: 1.00e-02 | EPSILON: 0.90 \n",
      "EPISODE: 1730  |  REWARD:   2527.000  | TIME_STEPS:  2529 | LR: 1.00e-02 | EPSILON: 0.90 \n",
      "EPISODE: 1731  |  REWARD:   1522.000  | TIME_STEPS:  1524 | LR: 1.00e-02 | EPSILON: 0.90 \n",
      "EPISODE: 1732  |  REWARD:   1826.000  | TIME_STEPS:  1828 | LR: 1.00e-02 | EPSILON: 0.90 \n",
      "EPISODE: 1733  |  REWARD:   2953.000  | TIME_STEPS:  2955 | LR: 1.00e-02 | EPSILON: 0.90 \n",
      "EPISODE: 1749  |  REWARD:   1070.000  | TIME_STEPS:  1072 | LR: 1.00e-02 | EPSILON: 0.90 \n",
      "EPISODE: 1750  |  REWARD:   5195.000  | TIME_STEPS:  5197 | LR: 1.00e-02 | EPSILON: 0.90 \n",
      "EPISODE: 1753  |  REWARD:   2046.000  | TIME_STEPS:  2048 | LR: 1.00e-02 | EPSILON: 0.90 \n",
      "EPISODE: 1754  |  REWARD:   1129.000  | TIME_STEPS:  1131 | LR: 1.00e-02 | EPSILON: 0.90 \n",
      "EPISODE: 1755  |  REWARD:   1385.000  | TIME_STEPS:  1387 | LR: 1.00e-02 | EPSILON: 0.90 \n",
      "EPISODE: 1764  |  REWARD:   1121.000  | TIME_STEPS:  1123 | LR: 1.00e-02 | EPSILON: 0.90 \n",
      "EPISODE: 1767  |  REWARD:   1020.000  | TIME_STEPS:  1022 | LR: 1.00e-02 | EPSILON: 0.90 \n",
      "EPISODE: 1795  |  REWARD:   2813.000  | TIME_STEPS:  2815 | LR: 1.00e-02 | EPSILON: 0.90 \n",
      "EPISODE: 1797  |  REWARD:   1768.000  | TIME_STEPS:  1770 | LR: 1.00e-02 | EPSILON: 0.90 \n",
      "EPISODE: 1798  |  REWARD:   3638.000  | TIME_STEPS:  3640 | LR: 1.00e-02 | EPSILON: 0.90 \n",
      "EPISODE: 1799  |  REWARD:  24296.000  | TIME_STEPS: 24298 | LR: 1.00e-02 | EPSILON: 0.90 \n",
      "EPISODE: 1801  |  REWARD:   4879.000  | TIME_STEPS:  4881 | LR: 1.00e-02 | EPSILON: 0.90 \n",
      "EPISODE: 1802  |  REWARD:   8427.000  | TIME_STEPS:  8429 | LR: 1.00e-02 | EPSILON: 0.90 \n",
      "EPISODE: 1803  |  REWARD:   7311.000  | TIME_STEPS:  7313 | LR: 1.00e-02 | EPSILON: 0.90 \n",
      "EPISODE: 1805  |  REWARD:  56637.000  | TIME_STEPS: 56639 | LR: 1.00e-02 | EPSILON: 0.90 \n",
      "EPISODE: 1809  |  REWARD:   7778.000  | TIME_STEPS:  7780 | LR: 1.00e-02 | EPSILON: 0.90 \n",
      "EPISODE: 1824  |  REWARD:  19596.000  | TIME_STEPS: 19598 | LR: 1.00e-02 | EPSILON: 0.90 \n",
      "EPISODE: 1827  |  REWARD:  75766.000  | TIME_STEPS: 75768 | LR: 1.00e-02 | EPSILON: 0.90 \n",
      "EPISODE: 1828  |  REWARD:  33556.000  | TIME_STEPS: 33558 | LR: 1.00e-02 | EPSILON: 0.90 \n",
      "EPISODE: 1829  |  REWARD:  41008.000  | TIME_STEPS: 41010 | LR: 1.00e-02 | EPSILON: 0.90 \n",
      "EPISODE: 1830  |  REWARD:   1288.000  | TIME_STEPS:  1290 | LR: 1.00e-02 | EPSILON: 0.90 \n",
      "EPISODE: 1831  |  REWARD:   1903.000  | TIME_STEPS:  1905 | LR: 1.00e-02 | EPSILON: 0.90 \n",
      "EPISODE: 1832  |  REWARD:   2549.000  | TIME_STEPS:  2551 | LR: 1.00e-02 | EPSILON: 0.90 \n",
      "EPISODE: 1833  |  REWARD:   1107.000  | TIME_STEPS:  1109 | LR: 1.00e-02 | EPSILON: 0.90 \n",
      "EPISODE: 1834  |  REWARD:   1860.000  | TIME_STEPS:  1862 | LR: 1.00e-02 | EPSILON: 0.90 \n",
      "EPISODE: 1835  |  REWARD: 104850.000  | TIME_STEPS: 104852 | LR: 1.00e-02 | EPSILON: 0.90 \n",
      "EPISODE: 1836  |  REWARD:   1095.000  | TIME_STEPS:  1097 | LR: 1.00e-02 | EPSILON: 0.90 \n",
      "EPISODE: 1841  |  REWARD:  10800.000  | TIME_STEPS: 10802 | LR: 1.00e-02 | EPSILON: 0.90 \n",
      "EPISODE: 1842  |  REWARD:  16223.000  | TIME_STEPS: 16225 | LR: 1.00e-02 | EPSILON: 0.90 \n",
      "EPISODE: 1847  |  REWARD:   4183.000  | TIME_STEPS:  4185 | LR: 1.00e-02 | EPSILON: 0.90 \n"
     ]
    }
   ],
   "source": [
    "print('\\nCollecting experience...')\n",
    "ep_r_rec = []\n",
    "time_rec = []\n",
    "flag = True\n",
    "learn_start = 0\n",
    "for i_episode in range(NO_OF_EPISODES):\n",
    "       \n",
    "    s = env.reset()\n",
    "    ep_r = 0\n",
    "    time_steps = 0\n",
    "    stop_remember = False\n",
    "    while True:\n",
    "#         env.render()\n",
    "        time_steps += 1\n",
    "        a = dqn.choose_action(s)\n",
    "\n",
    "        # take action\n",
    "        s_, r, done, info = env.step(a)\n",
    "        \n",
    "        if time_steps > 500:\n",
    "            stop_remember = True\n",
    "        \n",
    "        if done:\n",
    "            r = -1\n",
    "            \n",
    "            \n",
    "        if (stop_remember == False):\n",
    "            dqn.store_transition(s, a, r, s_)\n",
    "            \n",
    "        ep_r += r\n",
    "        if dqn.good_memory_counter > MEMORY_CAPACITY/2 and dqn.bad_memory_counter > MEMORY_CAPACITY/2:\n",
    "            dqn.learn()\n",
    "            if flag:\n",
    "                print(\"Learning starts from EPISODE: \",i_episode)\n",
    "                learn_start = i_episode\n",
    "                flag = False\n",
    "        \n",
    "        if done:\n",
    "            ep_r_rec = np.append(ep_r_rec, ep_r)\n",
    "            time_rec = np.append(time_rec, time_steps)\n",
    "            if time_steps > 1000:\n",
    "                print('EPISODE: {:4d}  |  REWARD: {:10.3f}  | TIME_STEPS: {:5d} | LR: {:3.2e} | EPSILON: {:3.2f} '.format(i_episode, ep_r, time_steps, LR, EPSILON))\n",
    "            \n",
    "            break\n",
    "        s = s_"
   ]
  },
  {
   "cell_type": "code",
   "execution_count": 16,
   "metadata": {},
   "outputs": [
    {
     "data": {
      "image/png": "[encoded data removed]",
      "text/plain": [
       "<Figure size 1080x432 with 1 Axes>"
      ]
     },
     "metadata": {},
     "output_type": "display_data"
    }
   ],
   "source": [
    "fig = plt.figure(figsize = (15,6))\n",
    "\n",
    "ax2 = fig.add_subplot(2, 1, 1)\n",
    "data = time_rec[learn_start:]\n",
    "ax2.plot(data, color = 'g')\n",
    "ax2.plot(np.ones_like(data)*1500, 'g--')\n",
    "ax2.plot(np.ones_like(data)*200, 'r--')\n",
    "\n",
    "ax2.set_title('Time Steps',color = 'g')\n",
    "for xpt in [250,500]:\n",
    "    ax2.axvline(x=xpt,color='k',linewidth='0.8')\n",
    "ax2.set_yscale('log')\n",
    "ax2.set_ylim([1,1e4])\n",
    "fig.tight_layout()\n",
    "ax2.grid()\n",
    "plt.show()"
   ]
  },
  {
   "cell_type": "code",
   "execution_count": 12,
   "metadata": {},
   "outputs": [
    {
     "data": {
      "text/plain": [
       "816.758"
      ]
     },
     "execution_count": 12,
     "metadata": {},
     "output_type": "execute_result"
    }
   ],
   "source": [
    "data.mean()"
   ]
  },
  {
   "cell_type": "code",
   "execution_count": 13,
   "metadata": {},
   "outputs": [],
   "source": [
    "env.close()"
   ]
  },
  {
   "cell_type": "code",
   "execution_count": 14,
   "metadata": {},
   "outputs": [],
   "source": [
    "# s = env.reset()\n",
    "# while True:\n",
    "#     env.render()\n",
    "#     a = dqn.choose_greedy_action(s)\n",
    "#     s_, r, done, info = env.step(a)\n",
    "#     if done:\n",
    "#         break\n",
    "#     s = s_"
   ]
  },
  {
   "cell_type": "code",
   "execution_count": 15,
   "metadata": {},
   "outputs": [],
   "source": [
    "# env.close()"
   ]
  },
  {
   "cell_type": "code",
   "execution_count": null,
   "metadata": {},
   "outputs": [],
   "source": []
  }
 ],
 "metadata": {
  "kernelspec": {
   "display_name": "Python 3",
   "language": "python",
   "name": "python3"
  },
  "language_info": {
   "codemirror_mode": {
    "name": "ipython",
    "version": 3
   },
   "file_extension": ".py",
   "mimetype": "text/x-python",
   "name": "python",
   "nbconvert_exporter": "python",
   "pygments_lexer": "ipython3",
   "version": "3.6.3"
  }
 },
 "nbformat": 4,
 "nbformat_minor": 2
}
